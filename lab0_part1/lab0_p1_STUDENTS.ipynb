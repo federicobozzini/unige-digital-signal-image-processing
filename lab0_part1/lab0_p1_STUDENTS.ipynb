{
 "cells": [
  {
   "cell_type": "markdown",
   "metadata": {},
   "source": [
    "# Lab0 (part 1): Python for Digital Signal and Image Processing\n",
    "\n",
    "Welcome to your first Digital Signal and Image Processing lab. The goal of this lab is to familiarize with the few Python concepts we need to perform signals and images manipulation. For more accurate Python tutorials you can check the follwing links.\n",
    "<ul>\n",
    "<li><a href=\"http://docs.python-guide.org/en/latest/\">Hitchhiker’s Guide to Python</a></li>\n",
    "<li><a href=\"http://gestaltrevision.be/wiki/python/python\">Python for Vision Research</a></li>\n",
    "<li><a href=\"https://www.edx.org/course/introduction-python-data-science-microsoft-dat208x-3\">Introduction to Python for Data Science </a> </li>\n",
    "<li><a href=\"http://docs.scipy.org/doc/scipy/reference/tutorial/index.html\">Scipy tutorial</a></li>\n",
    "<li><a href=\"https://docs.python.org/2/tutorial/\">The official Python tutorial</a> (NERD alert!)</li>\n",
    "</ul>\n",
    "\n",
    "Let's get it started!"
   ]
  },
  {
   "cell_type": "markdown",
   "metadata": {},
   "source": [
    "Modules are one of the things that make Python (one of) the best languages for data analysis. In the following sections we will see the most useful modules for our purposes."
   ]
  },
  {
   "cell_type": "markdown",
   "metadata": {},
   "source": [
    "## <font face=\"TrueType\">Numpy</font>\n",
    "\n",
    "The very first module we review (perhaps the only one we will use forever) is <a href=\"http://www.numpy.org/\"><font face=\"TrueType\">numpy</font> </a>. This module implements, among the others, the abstraction of <i>vector</i> and <i>matrix</i> that are universally used for <i>signals</i> and <i>images</i>, respectively. Let's try it!"
   ]
  },
  {
   "cell_type": "code",
   "execution_count": null,
   "metadata": {
    "collapsed": false
   },
   "outputs": [],
   "source": [
    "# Press Shift + Enter to run the code in this cell and continue to the next one\n",
    "import numpy as np # np is THE alias for numpy that everyone uses\n",
    "signal0 = np.array([0,0,0,0,1,0,0,0,0]) "
   ]
  },
  {
   "cell_type": "code",
   "execution_count": null,
   "metadata": {
    "collapsed": false
   },
   "outputs": [],
   "source": [
    "print(\"signal0 data type is: {}\".format(type(signal0)))\n",
    "print(\"signal0 length is: {}\".format(len(signal0)))\n",
    "print(\"signal0 shape is: {}\".format(signal0.shape))\n",
    "print(\"signal0 is: {}\".format(signal0))"
   ]
  },
  {
   "cell_type": "markdown",
   "metadata": {},
   "source": [
    "The <font face=\"TrueType\">numpy.array</font> object allows to perform some quite sophisticated math opearations in a single line of code. For instance, let's make a 10-elements vector $x$ and let's fill it with increasing numbers."
   ]
  },
  {
   "cell_type": "code",
   "execution_count": null,
   "metadata": {
    "collapsed": false
   },
   "outputs": [],
   "source": [
    "x = np.arange(10)\n",
    "print(x)"
   ]
  },
  {
   "cell_type": "markdown",
   "metadata": {},
   "source": [
    "We can easily compute element-wise multiplication with scalars."
   ]
  },
  {
   "cell_type": "code",
   "execution_count": null,
   "metadata": {
    "collapsed": false
   },
   "outputs": [],
   "source": [
    "alpha = 2\n",
    "x_new = alpha*x\n",
    "print(x_new)"
   ]
  },
  {
   "cell_type": "markdown",
   "metadata": {},
   "source": [
    "or vectors"
   ]
  },
  {
   "cell_type": "code",
   "execution_count": null,
   "metadata": {
    "collapsed": false
   },
   "outputs": [],
   "source": [
    "print(x * x_new)"
   ]
  },
  {
   "cell_type": "code",
   "execution_count": null,
   "metadata": {
    "collapsed": false
   },
   "outputs": [],
   "source": [
    "print(x - x_new)"
   ]
  },
  {
   "cell_type": "markdown",
   "metadata": {},
   "source": [
    "We can also easily calculate inner products between vectors."
   ]
  },
  {
   "cell_type": "code",
   "execution_count": null,
   "metadata": {
    "collapsed": false
   },
   "outputs": [],
   "source": [
    "print(np.dot(x,x_new))"
   ]
  },
  {
   "cell_type": "markdown",
   "metadata": {},
   "source": [
    "Matrices are just two dimensional <font face=\"TrueType\">numpy.array</font>, in fact"
   ]
  },
  {
   "cell_type": "code",
   "execution_count": null,
   "metadata": {
    "collapsed": false
   },
   "outputs": [],
   "source": [
    "m1 = np.array([[1,0,0],\n",
    "               [0,1,0],\n",
    "               [0,0,1]])\n",
    "\n",
    "print(\"m1 data type is: {}\".format(type(m1)))\n",
    "print(\"m1 shape is: {}\".format(m1.shape))"
   ]
  },
  {
   "cell_type": "markdown",
   "metadata": {},
   "source": [
    "and we can use <font face=\"TrueType\">numpy.dot</font> to calculate matrix multiplications (click <a href=\"https://docs.continuum.io/mkl-optimizations/\">here</a> for more information on Anaconda interfaces with high performance linear algebra libraries)."
   ]
  },
  {
   "cell_type": "code",
   "execution_count": null,
   "metadata": {
    "collapsed": false
   },
   "outputs": [],
   "source": [
    "m2 = np.array([[0,1,0],\n",
    "               [1,1,1],\n",
    "               [0,1,0]])\n",
    "\n",
    "print(2*np.dot(m1,m2))"
   ]
  },
  {
   "cell_type": "markdown",
   "metadata": {},
   "source": [
    "Keep in mind that you can slice a <font face=\"TrueType\">numpy.array</font> as follows.\n",
    "\n",
    "<img src=\"numpy_indexing.png\" style=\"width:500px;height:275px;\"></img>"
   ]
  },
  {
   "cell_type": "code",
   "execution_count": null,
   "metadata": {
    "collapsed": false
   },
   "outputs": [],
   "source": [
    "# Print the first two columns\n",
    "print(m1[:,:2])"
   ]
  },
  {
   "cell_type": "code",
   "execution_count": null,
   "metadata": {
    "collapsed": false
   },
   "outputs": [],
   "source": [
    "# Print the first two rows\n",
    "print(m1[:2,:])"
   ]
  },
  {
   "cell_type": "markdown",
   "metadata": {},
   "source": [
    "<font face=\"TrueType\">Numpy</font> also implements some common signal, such as the sine or cosine wave."
   ]
  },
  {
   "cell_type": "code",
   "execution_count": null,
   "metadata": {
    "collapsed": false
   },
   "outputs": [],
   "source": [
    "N = 10              # number of samples\n",
    "time = np.arange(N) # horizontal axis\n",
    "x1 = np.sin(time)\n",
    "print(x1)"
   ]
  },
  {
   "cell_type": "markdown",
   "metadata": {},
   "source": [
    "## <font face=\"TrueType\">Matplotlib</font>\n",
    "\n",
    "Another aspect that makes Python so versatile is that we can easily visualize basically every 1D/2D signal. To do that we need another module: <a href=\"http://matplotlib.org/\"><font face=\"TrueType\">Matplotlib</font></a>.\n",
    "\n",
    "Let's try to plot our first signal."
   ]
  },
  {
   "cell_type": "code",
   "execution_count": null,
   "metadata": {
    "collapsed": false
   },
   "outputs": [],
   "source": [
    "import matplotlib.pyplot as plt\n",
    "\n",
    "# magic command, it make the image appear immediately below its creation\n",
    "%matplotlib inline \n",
    "\n",
    "# ----- optional commands to simply make a larger figure ---- #\n",
    "from pylab import rcParams\n",
    "rcParams['figure.figsize'] = 15, 5\n",
    "# ----------------------------------------------------------- #\n",
    "\n",
    "a = np.arange(-4*np.pi, 4*np.pi, 0.1)\n",
    "plt.plot(a, np.sin(a))\n",
    "plt.grid()\n",
    "plt.xlabel('a')\n",
    "plt.title('My first signal')\n",
    "plt.ylabel('sin(a)')"
   ]
  },
  {
   "cell_type": "markdown",
   "metadata": {},
   "source": [
    "Sometimes more than one signal in a single plot may be desired. You can easily do it just like that."
   ]
  },
  {
   "cell_type": "code",
   "execution_count": null,
   "metadata": {
    "collapsed": false
   },
   "outputs": [],
   "source": [
    "plt.plot(a, np.sin(a), label='sine')\n",
    "plt.plot(a, np.cos(a), label='cosine')\n",
    "plt.legend()\n",
    "plt.grid()"
   ]
  },
  {
   "cell_type": "markdown",
   "metadata": {},
   "source": [
    "If you want to split the figure in several subfigures, you just need to use the following command."
   ]
  },
  {
   "cell_type": "code",
   "execution_count": null,
   "metadata": {
    "collapsed": false
   },
   "outputs": [],
   "source": [
    "plt.subplot(2,1,1) # 2 rows, 1 column, write in position 1\n",
    "# --- complete here --- #\n",
    "\n",
    "plt.subplot(2,1,2) # 2 rows, 1 column, write in position 2\n",
    "# --- complete here --- #"
   ]
  },
  {
   "cell_type": "markdown",
   "metadata": {
    "collapsed": true
   },
   "source": [
    "### Few observations on signals and sampling\n",
    "\n",
    "<ul>\n",
    "<li>We will meet the $2\\pi f_0 t$ term as argument of some sinusoids a bunch of times. Do you know why? If not, let's try to think about it. Both $\\text{sin}(t)$ and $\\text{cos}(t)$ are periodic functions having period $2\\pi$.\n",
    "![sine_curve](Sine_curve_drawing_animation.gif)\n",
    "Writing a sinusoid as $\\text{sin}(2\\pi f_0 t)$, or $\\text{cos}(2\\pi f_0 t)$, gives you the ability to <i>control</i> the period $\\frac{1}{f_0}$ of your signal. This concept is going to be more clear later on.\n",
    "</li>\n",
    "\n",
    "<!--- So far we worked with time axis that are so dense that may remind us of continuous signals, but beware, i --->\n",
    "\n",
    "<li>In order to be processed by a real machine a signal must <b>always</b> be discretized. Mathematically speaking, to discretize a continuous signal, we simply need to multiply it with a <a href=\"https://en.wikipedia.org/wiki/Dirac_comb\">Dirac comb</a>. So, let's represent a continuous signal $x(t)$ and a Dirac comb of period $T_0=1$ \n",
    "$$\\text{comb}_{T_0}(t)=\\sum_{n=-\\infty}^{+\\infty}\\delta(t-nT_0)$$\n",
    "<img src=\"sampling_1.png\" width=1000 height=400></img>\n",
    "the obtained discretized signal $x[n]$ will look like the following.\n",
    "<img src=\"sampling_2.png\" width=1000 height=400></img>\n",
    "So, <b>sampling matters!</b> Our discretized signal $x[n]$ does not look <i>at all</i>  like the original continuous signal $x(t)$. Basically the sampling frequency we used was way too coarse to catch the actual structure of $x(t)$. We may notice that in <b>real cases</b> we don't actually know the continuous signal, but we can only observe the discretized one. Further details on this topic will be given in next labs.\n",
    "</li>\n",
    "</ul>"
   ]
  },
  {
   "cell_type": "markdown",
   "metadata": {},
   "source": [
    "## Basic signal manipulation\n",
    "\n",
    "So far so good, right? We saw how to create and plot some basic signal. Now let's try to do something more interesting. \n",
    "\n",
    "Continuous signals are pure mathematical abstractions and, of course, we cannot deal with them. Every time we aim at representing some signal, we need to collect <b>samples</b>. The very first thing we need to do <b>every time</b> we want to generate a synthetic signal is to define the horizontal (time) axis. There are several equivalent ways to do that, let's take into account to most basic one. We can start defining the <b>number of samples</b> $N$ and the <b>sampling rate</b> $f_s$ (aka sampling frequency or $\\frac{\\# \\text{samples}}{\\text{experiment time}}$) expressed in Hz.\n",
    "\n",
    "p.s.: keep in mind that $1~\\text{Hz} = \\frac{1}{\\text{sec}}$"
   ]
  },
  {
   "cell_type": "code",
   "execution_count": null,
   "metadata": {
    "collapsed": true
   },
   "outputs": [],
   "source": [
    "N = 1024  # Samples (why 1024? why not?!)\n",
    "fs = 2048 # Hz"
   ]
  },
  {
   "cell_type": "markdown",
   "metadata": {},
   "source": [
    "In this case, which would be the duration our experiment? It is $N\\cdot\\frac{1}{f_s}$ in fact $\\#\\text{samples}\\cdot\\frac{\\text{experiment time}}{\\# \\text{samples}} = \\text{experiment time}$"
   ]
  },
  {
   "cell_type": "code",
   "execution_count": null,
   "metadata": {
    "collapsed": false
   },
   "outputs": [],
   "source": [
    "# from __future__ import division # handy command if you are using python 2.7\n",
    "t1 = np.arange(N) * 1/fs\n",
    "print(t1)"
   ]
  },
  {
   "cell_type": "markdown",
   "metadata": {},
   "source": [
    "or, **almost** equivalently"
   ]
  },
  {
   "cell_type": "code",
   "execution_count": null,
   "metadata": {
    "collapsed": false
   },
   "outputs": [],
   "source": [
    "t2 = np.linspace(0, N/fs, N)\n",
    "print(t2)"
   ]
  },
  {
   "cell_type": "markdown",
   "metadata": {},
   "source": [
    "So, let's try to plot some signals."
   ]
  },
  {
   "cell_type": "markdown",
   "metadata": {},
   "source": [
    "### $x(t)=\\text{sin}(2\\pi f_0 t)~~where~~f_0 = 10~\\text{Hz}$"
   ]
  },
  {
   "cell_type": "code",
   "execution_count": null,
   "metadata": {
    "collapsed": false
   },
   "outputs": [],
   "source": [
    "# --- complete here --- #"
   ]
  },
  {
   "cell_type": "markdown",
   "metadata": {},
   "source": [
    "Does it look like you expected? Try to play a bit with different values for $N$ and $f_0$, what do you observe?"
   ]
  },
  {
   "cell_type": "markdown",
   "metadata": {},
   "source": [
    "### $x(t)=2~\\text{sin}(2\\pi f_1 t)+0.5~\\text{sin}(2\\pi f_2 t)~~where~~f_1 = 10~\\text{Hz}~~~and~~~f_2=50~\\text{Hz}$"
   ]
  },
  {
   "cell_type": "code",
   "execution_count": null,
   "metadata": {
    "collapsed": false
   },
   "outputs": [],
   "source": [
    "# --- complete here --- #"
   ]
  },
  {
   "cell_type": "markdown",
   "metadata": {},
   "source": [
    "Try to play a bit with $f_1$ and $f_2$. What do you observe?\n",
    "\n",
    "You can be as wild as you wish, try something like..."
   ]
  },
  {
   "cell_type": "code",
   "execution_count": null,
   "metadata": {
    "collapsed": false
   },
   "outputs": [],
   "source": [
    "f1 = 10\n",
    "x = 1-2*np.sign(np.sin(2*np.pi*f1*t))\n",
    "\n",
    "plt.plot(t,x)\n",
    "plt.grid()\n",
    "plt.xlabel('t')\n",
    "plt.ylim([-1.5,3.5])"
   ]
  },
  {
   "cell_type": "markdown",
   "metadata": {},
   "source": [
    "<font face=\"TrueType\">Numpy</font> implements some helpful pseudo-random generators. Let's check the documentation."
   ]
  },
  {
   "cell_type": "code",
   "execution_count": null,
   "metadata": {
    "collapsed": false
   },
   "outputs": [],
   "source": [
    "np.random??"
   ]
  },
  {
   "cell_type": "code",
   "execution_count": null,
   "metadata": {
    "collapsed": false
   },
   "outputs": [],
   "source": [
    "print(np.random.randn(1))"
   ]
  },
  {
   "cell_type": "markdown",
   "metadata": {},
   "source": [
    "Now try to represent (in the same plane) 5 sinusoidal signals where amplitude $A$, frequency $f_0$ and phase $\\phi$ are extracted from random distributions.\n",
    "\n",
    "$A \\sim \\mathcal{N}(1, 2)$\n",
    "\n",
    "$f_0 \\sim \\mathcal{N}(10, 5)$\n",
    "\n",
    "$\\phi \\sim \\mathcal{N}(0, 0.1)$"
   ]
  },
  {
   "cell_type": "code",
   "execution_count": null,
   "metadata": {
    "collapsed": true
   },
   "outputs": [],
   "source": [
    "# --- complete here --- #"
   ]
  },
  {
   "cell_type": "markdown",
   "metadata": {},
   "source": [
    "### Exercises\n",
    "Use the concept you just learned to plot signals that approximately look like the following.\n",
    "\n",
    "<ol>\n",
    "<li><img src=\"x5.png\" width=1000 height=400></img></li>\n",
    "<li><img src=\"x3.png\" width=1000 height=400></img></li>\n",
    "<li><img src=\"x1.png\" width=1000 height=400></img></li>\n",
    "<li><img src=\"x2.png\" width=1000 height=400></img></li>\n",
    "<li><img src=\"x4.png\" width=1000 height=400></img></li>\n",
    "</ol>\n",
    "\n",
    "### Optional\n",
    "Can you represent a set of signals that approximately look like the logo of this course?\n",
    "\n",
    "<ol>\n",
    "<li><img src=\"x6.png\" width=1000 height=400></img></li>\n",
    "</ol>"
   ]
  }
 ],
 "metadata": {
  "anaconda-cloud": {},
  "kernelspec": {
   "display_name": "Python [conda env:iab-0.1.3]",
   "language": "python",
   "name": "conda-env-iab-0.1.3-py"
  },
  "language_info": {
   "codemirror_mode": {
    "name": "ipython",
    "version": 3
   },
   "file_extension": ".py",
   "mimetype": "text/x-python",
   "name": "python",
   "nbconvert_exporter": "python",
   "pygments_lexer": "ipython3",
   "version": "3.5.3"
  }
 },
 "nbformat": 4,
 "nbformat_minor": 0
}
